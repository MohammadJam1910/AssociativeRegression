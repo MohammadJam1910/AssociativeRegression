{
 "cells": [
  {
   "cell_type": "code",
   "execution_count": 1,
   "metadata": {},
   "outputs": [
    {
     "name": "stderr",
     "output_type": "stream",
     "text": [
      "<>:5: SyntaxWarning: invalid escape sequence '\\d'\n",
      "<>:5: SyntaxWarning: invalid escape sequence '\\d'\n",
      "C:\\Users\\hp\\AppData\\Local\\Temp\\ipykernel_4196\\363708583.py:5: SyntaxWarning: invalid escape sequence '\\d'\n",
      "  data = pd.read_csv(\"discretized_datasets\\discretized_dataset.csv\")\n"
     ]
    },
    {
     "name": "stdout",
     "output_type": "stream",
     "text": [
      "Transactions saved to 'transactions.txt'\n"
     ]
    }
   ],
   "source": [
    "import pandas as pd\n",
    "\n",
    "\n",
    "# Load the discretized dataset (replace 'file.csv' with your actual file)\n",
    "data = pd.read_csv(\"discretized_datasets\\discretized_dataset.csv\")\n",
    "\n",
    "# Initialize a list to store transactions\n",
    "transactions = []\n",
    "\n",
    "# Iterate through each row\n",
    "for _, row in data.iterrows():\n",
    "    transaction = []\n",
    "    for col, value in row.items():\n",
    "        # Combine column name with the interval\n",
    "        transaction.append(f\"{col}_({value})\")\n",
    "    transactions.append(\" \".join(transaction))\n",
    "\n",
    "# Save transactions to a text file\n",
    "with open(\"transactions.txt\", \"w\") as f:\n",
    "    for transaction in transactions:\n",
    "        f.write(transaction + \"\\n\")\n",
    "\n",
    "print(\"Transactions saved to 'transactions.txt'\")\n"
   ]
  },
  {
   "cell_type": "code",
   "execution_count": 3,
   "metadata": {},
   "outputs": [
    {
     "name": "stdout",
     "output_type": "stream",
     "text": [
      "Sample Transactions: [[\"FIT101_('(2.467961-2.470798]')\", \"LIT101_('(260.709339-261.613117]')\", \"MV101_('(1.997945-inf)')\", \"P101_('(1.998972-inf)')\", \"P102_('(-inf-1.001028]')\", \"AIT201_('(244.282181-244.389573]')\", \"AIT202_('(8.189762-8.192833]')\", \"AIT203_('(305.924386-306.214347]')\", \"FIT201_('(2.469542-2.472447]')\", \"MV201_('(1.997945-inf)')\", \"P201_('(-inf-1.001028]')\", \"P202_('All')\", \"P203_('(1.998972-inf)')\", \"P204_('(-inf-1.001028]')\", \"P205_('(1.998972-inf)')\", \"P206_('(-inf-1.001028]')\", \"DPIT301_('(20.765673-20.811922]')\", \"FIT301_('(2.234553-2.236995]')\", \"LIT301_('(327.13312-328.230943]')\", \"MV301_('(0.998972-1.001028]')\", \"MV302_('(1.997945-inf)')\", \"MV303_('(0.998972-1.001028]')\", \"MV304_('(0.998972-1.001028]')\", \"P301_('(1.998972-inf)')\", \"P302_('(-inf-1.001028]')\", \"AIT401_('(-inf-0.152987]')\", \"AIT402_('(170.982018-171.180349]')\", \"FIT401_('(-inf-0.001796]')\", \"LIT401_('(237.226088-238.123873]')\", \"P401_('All')\", \"P402_('(-inf-1.001028]')\", \"P403_('(-inf-1.001028]')\", \"P404_('All')\", \"UV401_('(-inf-1.001028]')\", \"AIT501_('(7.307893-7.308925]')\", \"AIT502_('(176.726123-176.873106]')\", \"AIT503_('(263.610879-263.664723]')\", \"AIT504_('(12.263399-12.710592]')\", \"FIT501_('(-inf-0.001807]')\", \"FIT502_('(0.0014-0.0028]')\", \"FIT503_('(0.00157-0.002355]')\", \"FIT504_('(-inf-0.000326]')\", \"P501_('(-inf-1.001028]')\", \"P502_('All')\", \"PIT501_('(9.943346-10.206194]')\", \"PIT502_('(-inf-0.00377]')\", \"PIT503_('(4.123231-4.326241]')\", \"FIT601_('(-inf-0.001853]')\", \"P601_('All')\", \"P602_('(-inf-1.001028]')\", \"P603_('All')\", 'Normal/Attack_(0.0)'], [\"FIT101_('(2.456614-2.459451]')\", \"LIT101_('(260.709339-261.613117]')\", \"MV101_('(1.997945-inf)')\", \"P101_('(1.998972-inf)')\", \"P102_('(-inf-1.001028]')\", \"AIT201_('(244.282181-244.389573]')\", \"AIT202_('(8.189762-8.192833]')\", \"AIT203_('(305.924386-306.214347]')\", \"FIT201_('(2.466636-2.469542]')\", \"MV201_('(1.997945-inf)')\", \"P201_('(-inf-1.001028]')\", \"P202_('All')\", \"P203_('(1.998972-inf)')\", \"P204_('(-inf-1.001028]')\", \"P205_('(1.998972-inf)')\", \"P206_('(-inf-1.001028]')\", \"DPIT301_('(20.765673-20.811922]')\", \"FIT301_('(2.232111-2.234553]')\", \"LIT301_('(327.13312-328.230943]')\", \"MV301_('(0.998972-1.001028]')\", \"MV302_('(1.997945-inf)')\", \"MV303_('(0.998972-1.001028]')\", \"MV304_('(0.998972-1.001028]')\", \"P301_('(1.998972-inf)')\", \"P302_('(-inf-1.001028]')\", \"AIT401_('(-inf-0.152987]')\", \"AIT402_('(170.982018-171.180349]')\", \"FIT401_('(-inf-0.001796]')\", \"LIT401_('(238.123873-239.021659]')\", \"P401_('All')\", \"P402_('(-inf-1.001028]')\", \"P403_('(-inf-1.001028]')\", \"P404_('All')\", \"UV401_('(-inf-1.001028]')\", \"AIT501_('(7.307893-7.308925]')\", \"AIT502_('(176.726123-176.873106]')\", \"AIT503_('(263.610879-263.664723]')\", \"AIT504_('(12.263399-12.710592]')\", \"FIT501_('(-inf-0.001807]')\", \"FIT502_('(0.0014-0.0028]')\", \"FIT503_('(0.00157-0.002355]')\", \"FIT504_('(-inf-0.000326]')\", \"P501_('(-inf-1.001028]')\", \"P502_('All')\", \"PIT501_('(9.943346-10.206194]')\", \"PIT502_('(-inf-0.00377]')\", \"PIT503_('(4.123231-4.326241]')\", \"FIT601_('(-inf-0.001853]')\", \"P601_('All')\", \"P602_('(-inf-1.001028]')\", \"P603_('All')\", 'Normal/Attack_(0.0)'], [\"FIT101_('(2.436757-2.439594]')\", \"LIT101_('(260.709339-261.613117]')\", \"MV101_('(1.997945-inf)')\", \"P101_('(1.998972-inf)')\", \"P102_('(-inf-1.001028]')\", \"AIT201_('(244.282181-244.389573]')\", \"AIT202_('(8.189762-8.192833]')\", \"AIT203_('(305.924386-306.214347]')\", \"FIT201_('(2.466636-2.469542]')\", \"MV201_('(1.997945-inf)')\", \"P201_('(-inf-1.001028]')\", \"P202_('All')\", \"P203_('(1.998972-inf)')\", \"P204_('(-inf-1.001028]')\", \"P205_('(1.998972-inf)')\", \"P206_('(-inf-1.001028]')\", \"DPIT301_('(20.811922-20.858171]')\", \"FIT301_('(2.232111-2.234553]')\", \"LIT301_('(327.13312-328.230943]')\", \"MV301_('(0.998972-1.001028]')\", \"MV302_('(1.997945-inf)')\", \"MV303_('(0.998972-1.001028]')\", \"MV304_('(0.998972-1.001028]')\", \"P301_('(1.998972-inf)')\", \"P302_('(-inf-1.001028]')\", \"AIT401_('(-inf-0.152987]')\", \"AIT402_('(170.982018-171.180349]')\", \"FIT401_('(-inf-0.001796]')\", \"LIT401_('(237.226088-238.123873]')\", \"P401_('All')\", \"P402_('(-inf-1.001028]')\", \"P403_('(-inf-1.001028]')\", \"P404_('All')\", \"UV401_('(-inf-1.001028]')\", \"AIT501_('(7.307893-7.308925]')\", \"AIT502_('(176.726123-176.873106]')\", \"AIT503_('(263.610879-263.664723]')\", \"AIT504_('(12.263399-12.710592]')\", \"FIT501_('(-inf-0.001807]')\", \"FIT502_('(0.0014-0.0028]')\", \"FIT503_('(0.00157-0.002355]')\", \"FIT504_('(-inf-0.000326]')\", \"P501_('(-inf-1.001028]')\", \"P502_('All')\", \"PIT501_('(9.943346-10.206194]')\", \"PIT502_('(-inf-0.00377]')\", \"PIT503_('(4.123231-4.326241]')\", \"FIT601_('(-inf-0.001853]')\", \"P601_('All')\", \"P602_('(-inf-1.001028]')\", \"P603_('All')\", 'Normal/Attack_(0.0)']]\n"
     ]
    },
    {
     "ename": "MemoryError",
     "evalue": "Unable to allocate 97.6 GiB for an array with shape (36905, 3, 946719) and data type bool",
     "output_type": "error",
     "traceback": [
      "\u001b[1;31m---------------------------------------------------------------------------\u001b[0m",
      "\u001b[1;31mMemoryError\u001b[0m                               Traceback (most recent call last)",
      "Cell \u001b[1;32mIn[3], line 17\u001b[0m\n\u001b[0;32m     14\u001b[0m df \u001b[38;5;241m=\u001b[39m pd\u001b[38;5;241m.\u001b[39mDataFrame(te_data, columns\u001b[38;5;241m=\u001b[39mte\u001b[38;5;241m.\u001b[39mcolumns_)\n\u001b[0;32m     16\u001b[0m \u001b[38;5;66;03m# Step 3: Find frequent itemsets using Apriori\u001b[39;00m\n\u001b[1;32m---> 17\u001b[0m frequent_itemsets \u001b[38;5;241m=\u001b[39m \u001b[43mapriori\u001b[49m\u001b[43m(\u001b[49m\u001b[43mdf\u001b[49m\u001b[43m,\u001b[49m\u001b[43m \u001b[49m\u001b[43mmin_support\u001b[49m\u001b[38;5;241;43m=\u001b[39;49m\u001b[38;5;241;43m0.05\u001b[39;49m\u001b[43m,\u001b[49m\u001b[43m \u001b[49m\u001b[43muse_colnames\u001b[49m\u001b[38;5;241;43m=\u001b[39;49m\u001b[38;5;28;43;01mTrue\u001b[39;49;00m\u001b[43m)\u001b[49m  \u001b[38;5;66;03m# Adjust min_support as needed\u001b[39;00m\n\u001b[0;32m     18\u001b[0m \u001b[38;5;28mprint\u001b[39m(\u001b[38;5;124m\"\u001b[39m\u001b[38;5;124mFrequent Itemsets:\u001b[39m\u001b[38;5;130;01m\\n\u001b[39;00m\u001b[38;5;124m\"\u001b[39m, frequent_itemsets)\n\u001b[0;32m     20\u001b[0m \u001b[38;5;66;03m# Step 4: Save frequent itemsets to a CSV file\u001b[39;00m\n",
      "File \u001b[1;32mc:\\Users\\hp\\AppData\\Local\\Programs\\Python\\Python312\\Lib\\site-packages\\mlxtend\\frequent_patterns\\apriori.py:309\u001b[0m, in \u001b[0;36mapriori\u001b[1;34m(df, min_support, use_colnames, max_len, verbose, low_memory)\u001b[0m\n\u001b[0;32m    307\u001b[0m         _bools \u001b[38;5;241m=\u001b[39m _bools \u001b[38;5;241m&\u001b[39m (X[:, combin[:, n]] \u001b[38;5;241m==\u001b[39m all_ones)\n\u001b[0;32m    308\u001b[0m \u001b[38;5;28;01melse\u001b[39;00m:\n\u001b[1;32m--> 309\u001b[0m     _bools \u001b[38;5;241m=\u001b[39m np\u001b[38;5;241m.\u001b[39mall(\u001b[43mX\u001b[49m\u001b[43m[\u001b[49m\u001b[43m:\u001b[49m\u001b[43m,\u001b[49m\u001b[43m \u001b[49m\u001b[43mcombin\u001b[49m\u001b[43m]\u001b[49m, axis\u001b[38;5;241m=\u001b[39m\u001b[38;5;241m2\u001b[39m)\n\u001b[0;32m    311\u001b[0m support \u001b[38;5;241m=\u001b[39m _support(np\u001b[38;5;241m.\u001b[39marray(_bools), rows_count, is_sparse)\n\u001b[0;32m    312\u001b[0m _mask \u001b[38;5;241m=\u001b[39m (support \u001b[38;5;241m>\u001b[39m\u001b[38;5;241m=\u001b[39m min_support)\u001b[38;5;241m.\u001b[39mreshape(\u001b[38;5;241m-\u001b[39m\u001b[38;5;241m1\u001b[39m)\n",
      "\u001b[1;31mMemoryError\u001b[0m: Unable to allocate 97.6 GiB for an array with shape (36905, 3, 946719) and data type bool"
     ]
    }
   ],
   "source": [
    "from mlxtend.frequent_patterns import apriori, association_rules\n",
    "from mlxtend.preprocessing import TransactionEncoder\n",
    "import pandas as pd\n",
    "\n",
    "# Step 1: Load transactions from the file\n",
    "with open(\"transactions.txt\", \"r\") as file:\n",
    "    transactions = [line.strip().split() for line in file]\n",
    "\n",
    "print(\"Sample Transactions:\", transactions[:3])\n",
    "\n",
    "# Step 2: Convert transactions into a one-hot encoded DataFrame\n",
    "te = TransactionEncoder()\n",
    "te_data = te.fit(transactions).transform(transactions)\n",
    "df = pd.DataFrame(te_data, columns=te.columns_)\n",
    "\n",
    "# Step 3: Find frequent itemsets using Apriori\n",
    "frequent_itemsets = apriori(df, min_support=0.05, use_colnames=True)  # Adjust min_support as needed\n",
    "print(\"Frequent Itemsets:\\n\", frequent_itemsets)\n",
    "\n",
    "# Step 4: Save frequent itemsets to a CSV file\n",
    "frequent_itemsets.to_csv(\"frequent_patterns_apriori.csv\", index=False)\n",
    "print(\"Frequent itemsets saved to 'frequent_patterns_apriori.csv'\")\n"
   ]
  }
 ],
 "metadata": {
  "kernelspec": {
   "display_name": "Python 3",
   "language": "python",
   "name": "python3"
  },
  "language_info": {
   "codemirror_mode": {
    "name": "ipython",
    "version": 3
   },
   "file_extension": ".py",
   "mimetype": "text/x-python",
   "name": "python",
   "nbconvert_exporter": "python",
   "pygments_lexer": "ipython3",
   "version": "3.12.2"
  }
 },
 "nbformat": 4,
 "nbformat_minor": 2
}
